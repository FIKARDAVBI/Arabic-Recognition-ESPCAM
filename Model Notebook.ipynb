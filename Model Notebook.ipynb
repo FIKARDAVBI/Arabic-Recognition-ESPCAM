{
 "cells": [
  {
   "cell_type": "code",
   "execution_count": 1,
   "metadata": {},
   "outputs": [
    {
     "name": "stdout",
     "output_type": "stream",
     "text": [
      "TensorFlow Version: 2.6.0\n",
      "Default GPU Device: /device:GPU:0\n"
     ]
    },
    {
     "name": "stderr",
     "output_type": "stream",
     "text": [
      "C:\\Users\\Rzl\\AppData\\Local\\Temp\\ipykernel_18128\\3749508200.py:6: DeprecationWarning: distutils Version classes are deprecated. Use packaging.version instead.\n",
      "  assert LooseVersion(tf.__version__) >= LooseVersion('1.0')\n"
     ]
    }
   ],
   "source": [
    "# Membuat pengecekan tensorflow\n",
    "from distutils.version import LooseVersion\n",
    "import warnings\n",
    "import tensorflow as tf\n",
    "\n",
    "assert LooseVersion(tf.__version__) >= LooseVersion('1.0')\n",
    "print(\"TensorFlow Version: {}\".format(tf.__version__))\n",
    "\n",
    "if not tf.test.gpu_device_name():\n",
    "    warnings.warn(\"No GPU Found: Please ensure you have installed TensorFlow corrently\")\n",
    "else:\n",
    "    print(\"Default GPU Device: {}\".format(tf.test.gpu_device_name()))"
   ]
  },
  {
   "cell_type": "markdown",
   "metadata": {},
   "source": [
    "# Import Libraries"
   ]
  },
  {
   "cell_type": "code",
   "execution_count": 2,
   "metadata": {},
   "outputs": [
    {
     "ename": "ImportError",
     "evalue": "DLL load failed while importing _errors: The specified procedure could not be found.",
     "output_type": "error",
     "traceback": [
      "\u001b[1;31m---------------------------------------------------------------------------\u001b[0m",
      "\u001b[1;31mImportError\u001b[0m                               Traceback (most recent call last)",
      "Cell \u001b[1;32mIn[2], line 23\u001b[0m\n\u001b[0;32m     20\u001b[0m \u001b[38;5;66;03m# Log\u001b[39;00m\n\u001b[0;32m     21\u001b[0m \u001b[38;5;28;01mimport\u001b[39;00m \u001b[38;5;21;01mpandas\u001b[39;00m \u001b[38;5;28;01mas\u001b[39;00m \u001b[38;5;21;01mpd\u001b[39;00m\n\u001b[1;32m---> 23\u001b[0m \u001b[38;5;28;01mimport\u001b[39;00m \u001b[38;5;21;01mh5py\u001b[39;00m\n",
      "File \u001b[1;32m~\\anaconda3\\envs\\SASTNet\\lib\\site-packages\\h5py\\__init__.py:25\u001b[0m\n\u001b[0;32m     19\u001b[0m \u001b[38;5;66;03m# --- Library setup -----------------------------------------------------------\u001b[39;00m\n\u001b[0;32m     20\u001b[0m \n\u001b[0;32m     21\u001b[0m \u001b[38;5;66;03m# When importing from the root of the unpacked tarball or git checkout,\u001b[39;00m\n\u001b[0;32m     22\u001b[0m \u001b[38;5;66;03m# Python sees the \"h5py\" source directory and tries to load it, which fails.\u001b[39;00m\n\u001b[0;32m     23\u001b[0m \u001b[38;5;66;03m# We tried working around this by using \"package_dir\" but that breaks Cython.\u001b[39;00m\n\u001b[0;32m     24\u001b[0m \u001b[38;5;28;01mtry\u001b[39;00m:\n\u001b[1;32m---> 25\u001b[0m     \u001b[38;5;28;01mfrom\u001b[39;00m \u001b[38;5;21;01m.\u001b[39;00m \u001b[38;5;28;01mimport\u001b[39;00m _errors\n\u001b[0;32m     26\u001b[0m \u001b[38;5;28;01mexcept\u001b[39;00m \u001b[38;5;167;01mImportError\u001b[39;00m:\n\u001b[0;32m     27\u001b[0m     \u001b[38;5;28;01mimport\u001b[39;00m \u001b[38;5;21;01mos\u001b[39;00m\u001b[38;5;21;01m.\u001b[39;00m\u001b[38;5;21;01mpath\u001b[39;00m \u001b[38;5;28;01mas\u001b[39;00m \u001b[38;5;21;01m_op\u001b[39;00m\n",
      "\u001b[1;31mImportError\u001b[0m: DLL load failed while importing _errors: The specified procedure could not be found."
     ]
    }
   ],
   "source": [
    "# Arsitektur CNN\n",
    "from tensorflow.keras import layers, models, callbacks\n",
    "\n",
    "# Generator dan Praproses Data\n",
    "from tensorflow.keras.preprocessing.image import ImageDataGenerator, load_img, img_to_array\n",
    "\n",
    "# Fungsi Loss\n",
    "from tensorflow.keras.metrics import sparse_categorical_crossentropy\n",
    "\n",
    "# Visualisasi\n",
    "import matplotlib.pyplot as plt\n",
    "import numpy as np\n",
    "\n",
    "# Confusion matrix\n",
    "from sklearn.metrics import classification_report, confusion_matrix\n",
    "\n",
    "# Pengaturan Direktori\n",
    "import os\n",
    "\n",
    "# Log\n",
    "import pandas as pd\n",
    "\n",
    "import h5py"
   ]
  },
  {
   "cell_type": "markdown",
   "metadata": {},
   "source": [
    "# Pra-pelatihan"
   ]
  },
  {
   "cell_type": "code",
   "execution_count": 43,
   "metadata": {},
   "outputs": [],
   "source": [
    "# Membuat nama kelas berdasarkan urutan folder\n",
    "class_names = [ 'ain', 'alif', 'ba', 'dal', 'dhod', 'dzal',\n",
    "                'dzho', 'fa', 'ghoin', 'ha', 'ha\\'', 'hamzah', 'jim',\n",
    "                'kaf', 'kho', 'lam', 'lamalif', 'mim', 'nun', 'qof',\n",
    "                'ro', 'shod', 'sin', 'syin', 'ta', 'tho', 'tsa', \n",
    "                'wawu', 'ya', 'zaiAinn']"
   ]
  },
  {
   "cell_type": "markdown",
   "metadata": {},
   "source": [
    "## Arsitektur CNN"
   ]
  },
  {
   "cell_type": "markdown",
   "metadata": {},
   "source": [
    "![arsitektur](arsitektur_baru.png)"
   ]
  },
  {
   "cell_type": "code",
   "execution_count": 4,
   "metadata": {},
   "outputs": [
    {
     "name": "stdout",
     "output_type": "stream",
     "text": [
      "Model: \"sequential\"\n",
      "_________________________________________________________________\n",
      "Layer (type)                 Output Shape              Param #   \n",
      "=================================================================\n",
      "conv2d (Conv2D)              (None, 148, 148, 32)      896       \n",
      "_________________________________________________________________\n",
      "max_pooling2d (MaxPooling2D) (None, 74, 74, 32)        0         \n",
      "_________________________________________________________________\n",
      "conv2d_1 (Conv2D)            (None, 72, 72, 64)        18496     \n",
      "_________________________________________________________________\n",
      "max_pooling2d_1 (MaxPooling2 (None, 36, 36, 64)        0         \n",
      "_________________________________________________________________\n",
      "conv2d_2 (Conv2D)            (None, 34, 34, 128)       73856     \n",
      "_________________________________________________________________\n",
      "max_pooling2d_2 (MaxPooling2 (None, 17, 17, 128)       0         \n",
      "_________________________________________________________________\n",
      "conv2d_3 (Conv2D)            (None, 15, 15, 256)       295168    \n",
      "_________________________________________________________________\n",
      "max_pooling2d_3 (MaxPooling2 (None, 7, 7, 256)         0         \n",
      "_________________________________________________________________\n",
      "flatten (Flatten)            (None, 12544)             0         \n",
      "_________________________________________________________________\n",
      "dense (Dense)                (None, 512)               6423040   \n",
      "_________________________________________________________________\n",
      "dense_1 (Dense)              (None, 30)                15390     \n",
      "=================================================================\n",
      "Total params: 6,826,846\n",
      "Trainable params: 6,826,846\n",
      "Non-trainable params: 0\n",
      "_________________________________________________________________\n"
     ]
    }
   ],
   "source": [
    "# Membuat arsitektur CNN\n",
    "model = models.Sequential()\n",
    "model.add(layers.Conv2D(32, (3, 3), padding='valid', activation='relu', input_shape=(150, 150, 3)))\n",
    "model.add(layers.MaxPooling2D((2, 2), strides=(2,2), padding='valid'))\n",
    "model.add(layers.Conv2D(64, (3, 3), padding='valid', activation='relu'))\n",
    "model.add(layers.MaxPooling2D((2, 2), strides=(2,2), padding='valid'))\n",
    "model.add(layers.Conv2D(128, (3, 3), padding='valid', activation='relu'))\n",
    "model.add(layers.MaxPooling2D((2, 2), strides=(2,2), padding='valid'))\n",
    "model.add(layers.Conv2D(256, (3, 3), padding='valid', activation='relu'))\n",
    "model.add(layers.MaxPooling2D((2, 2), strides=(2,2), padding='valid'))\n",
    "model.add(layers.Flatten())\n",
    "model.add(layers.Dense(512, activation='relu'))\n",
    "model.add(layers.Dense(30, activation='softmax'))\n",
    "\n",
    "# Melihat detail arsitektur\n",
    "model.summary()"
   ]
  },
  {
   "cell_type": "markdown",
   "metadata": {},
   "source": [
    "## Dataset | Praproses dan Augmentasi"
   ]
  },
  {
   "cell_type": "code",
   "execution_count": 30,
   "metadata": {},
   "outputs": [
    {
     "name": "stderr",
     "output_type": "stream",
     "text": [
      "Clipping input data to the valid range for imshow with RGB data ([0..1] for floats or [0..255] for integers). Got range [0.0..255.0].\n"
     ]
    },
    {
     "name": "stdout",
     "output_type": "stream",
     "text": [
      "The image is binary.\n"
     ]
    },
    {
     "data": {
      "text/plain": [
       "(150, 150, 3)"
      ]
     },
     "execution_count": 30,
     "metadata": {},
     "output_type": "execute_result"
    },
    {
     "data": {
      "image/png": "[encoded data removed]",
      "text/plain": [
       "<Figure size 640x480 with 1 Axes>"
      ]
     },
     "metadata": {},
     "output_type": "display_data"
    }
   ],
   "source": [
    "import cv2\n",
    "from PIL import Image,ImageChops\n",
    "\n",
    "def normalize(I):\n",
    "    mn=I.min()\n",
    "    mx=I.max()\n",
    "    mx-=mn\n",
    "    I=((I-mn)/mx)*255\n",
    "    return I.astype(np.uint8)\n",
    "\n",
    "def trim(image):\n",
    "    #image=Image.fromarray((image* 255).astype(np.uint8))\n",
    "    image = normalize(image)\n",
    "    image=Image.fromarray(image)\n",
    "    bg = Image.new(image.mode, image.size, image.getpixel((0,0))) # black background\n",
    "    diff = ImageChops.difference(image, bg)\n",
    "    diff = ImageChops.add(diff, diff, 2.0, -100)\n",
    "    bbox = diff.getbbox()\n",
    "    if bbox:\n",
    "        return np.array(image.crop(bbox))\n",
    "# cv2.INTER_AREA: examiner les pixels voisins et utiliser ces voisins pour augmenter ou diminuer optiquement la taille de l’image sans introduire de distorsions\n",
    "def image_resize(image, width = None, height = None, inter = cv2.INTER_AREA):\n",
    "    dim = None\n",
    "    (h, w) = image.shape[:2]\n",
    "    if width is None and height is None:\n",
    "        return image\n",
    "    if width is None:\n",
    "        r = height / float(h)\n",
    "        dim = (int(w * r), height)\n",
    "    else:\n",
    "        #r = width / float(w)\n",
    "        #dim = (width, int(h * r))\n",
    "        dim = (width,height)\n",
    "    resized = cv2.resize(image, dim, interpolation = inter)\n",
    "    return resized\n",
    "    \n",
    "def cleaned_image(image):\n",
    "    bg=np.ones((150,150))\n",
    "    bg = bg*255\n",
    "    #image=trim(image)\n",
    "    image = normalize(image)\n",
    "    image=np.array(image)\n",
    "    image=image_resize(image,height=150)\n",
    "    image_gray = cv2.cvtColor(image, cv2.COLOR_BGR2GRAY)\n",
    "    thresh, image_binary = cv2.threshold(image_gray, 128, 255, cv2.THRESH_BINARY + cv2.THRESH_OTSU)\n",
    "    hh, ww = bg.shape\n",
    "    h, w = image_binary.shape\n",
    "    yoff = round((hh-h)/2)\n",
    "    xoff = round((ww-w)/2)\n",
    "    if xoff<=0:\n",
    "        image=image_resize(image,height=150,width=150)\n",
    "        image_gray = cv2.cvtColor(image, cv2.COLOR_BGR2GRAY)\n",
    "        thresh, image_binary = cv2.threshold(image_gray, 128, 255, cv2.THRESH_BINARY + cv2.THRESH_OTSU)\n",
    "        h, w = image_binary.shape\n",
    "        yoff = round((hh-h)/2)\n",
    "        xoff = round((ww-w)/2)\n",
    "    result = bg.copy()\n",
    "    result[yoff:yoff+h, xoff:xoff+w] = image_binary\n",
    "    result = np.stack((result,)*3, axis=-1)\n",
    "    #result = np.expand_dims(result,axis=2)\n",
    "    return result\n",
    "\n",
    "def check_binary(image):\n",
    "    unique_values = np.unique(image)\n",
    "    # Check if the image is binary (only two unique values, like 0 and 255)\n",
    "    if len(unique_values) == 2 and (0 in unique_values) and (255 in unique_values):\n",
    "        print(\"The image is binary.\")\n",
    "    else:\n",
    "        print(\"The image is not binary.\")\n",
    "\n",
    "image= cv2.imread(r\"C:\\Users\\Rzl\\Documents\\tugas s2\\Hijaiyah-Deployment-CNN\\dataset\\train\\ain\\aien_0.jpg\")\n",
    "image = cleaned_image(image)\n",
    "image = np.array(image)\n",
    "check_binary(image)\n",
    "plt.imshow(image)\n",
    "image.shape"
   ]
  },
  {
   "cell_type": "code",
   "execution_count": 31,
   "metadata": {},
   "outputs": [
    {
     "name": "stdout",
     "output_type": "stream",
     "text": [
      "Found 1680 images belonging to 30 classes.\n",
      "Found 420 images belonging to 30 classes.\n"
     ]
    }
   ],
   "source": [
    "# Pengaturan direktori\n",
    "import cv2\n",
    "PATH = 'dataset'\n",
    "VAL_DATA = 'test_mixed'\n",
    "TOTAL_TRAIN_DATA=1680\n",
    "TRAIN_DIR = os.path.join(PATH, 'train')\n",
    "VALIDATION_DIR = os.path.join(PATH, VAL_DATA)\n",
    "\n",
    "BATCH_SIZE = 56\n",
    "IMG_SIZE = (150, 150)\n",
    "\n",
    "# Membuat generator pelatihan\n",
    "'''\n",
    "train_datagen = ImageDataGenerator( \n",
    "      rescale=1./255,\n",
    "      rotation_range=40,\n",
    "      width_shift_range=0.2,\n",
    "      shear_range=0.2,;\n",
    "      height_shift_range=0.2,\n",
    "      zoom_range=0.2,\n",
    "      horizontal_flip=True,\n",
    "      fill_mode='nearest'\n",
    "\n",
    ")\n",
    "'''\n",
    "\n",
    "train_datagen = ImageDataGenerator(\n",
    "    #rotation_range=40,\n",
    "    #width_shift_range=0.2,\n",
    "    #height_shift_range=0.2,\n",
    "    #shear_range=0.2,\n",
    "    #zoom_range=0.2,\n",
    "    #horizontal_flip=True,\n",
    "    #fill_mode='nearest',\n",
    "    preprocessing_function=cleaned_image\n",
    ")\n",
    "\n",
    "train_generator = train_datagen.flow_from_directory(TRAIN_DIR,\n",
    "                                                    batch_size=BATCH_SIZE,\n",
    "                                                    class_mode='sparse',\n",
    "                                                    target_size=IMG_SIZE,\n",
    "                                                    color_mode='rgb'\n",
    "                                                   )\n",
    "\n",
    "validation_datagen = ImageDataGenerator( \n",
    "    preprocessing_function=cleaned_image\n",
    ")\n",
    "\n",
    "# Membuat generator validasi\n",
    "validation_generator = validation_datagen.flow_from_directory(VALIDATION_DIR,\n",
    "                                                    batch_size=BATCH_SIZE,\n",
    "                                                    class_mode='sparse',\n",
    "                                                    target_size=IMG_SIZE,\n",
    "                                                    color_mode='rgb'\n",
    "                                                    )\n",
    "def plot_augmented_images(generator, num_images=5):\n",
    "    \"\"\"Plot several augmented images.\"\"\"\n",
    "    fig, axes = plt.subplots(1, num_images, figsize=(15, 5))\n",
    "    \n",
    "    for i in range(num_images):\n",
    "        # Ambil batch gambar augmented dari generator\n",
    "        augmented_images, labels = generator.next()  # Batch dari generator\n",
    "        \n",
    "        # Pilih gambar pertama dari batch\n",
    "        image = augmented_images[0]\n",
    "\n",
    "        # Convert grayscale to RGB if necessary\n",
    "        '''\n",
    "        if image.shape[-1] == 1:  # Check if the image is single-channel (grayscale)\n",
    "            image = np.repeat(image, 3, axis=-1)\n",
    "        '''\n",
    "        \n",
    "        # Rescale image to range [0, 255] for displaying\n",
    "        image = np.clip(image * 255, 0, 255).astype(np.uint8)\n",
    "        \n",
    "        # Tampilkan gambar\n",
    "        axes[i].imshow(image)\n",
    "        axes[i].axis('off')\n",
    "    \n",
    "    plt.tight_layout()\n",
    "    plt.show()\n"
   ]
  },
  {
   "cell_type": "code",
   "execution_count": 37,
   "metadata": {},
   "outputs": [
    {
     "data": {
      "image/png": "[encoded data removed]",
      "text/plain": [
       "<Figure size 1500x500 with 5 Axes>"
      ]
     },
     "metadata": {},
     "output_type": "display_data"
    }
   ],
   "source": [
    "plot_augmented_images(train_generator, num_images=5)"
   ]
  },
  {
   "cell_type": "code",
   "execution_count": 94,
   "metadata": {},
   "outputs": [],
   "source": [
    "augmented_images, labels = train_generator.next()"
   ]
  },
  {
   "cell_type": "markdown",
   "metadata": {},
   "source": [
    "## Pelatihan"
   ]
  },
  {
   "cell_type": "code",
   "execution_count": 38,
   "metadata": {
    "scrolled": true
   },
   "outputs": [
    {
     "name": "stdout",
     "output_type": "stream",
     "text": [
      "Epoch 1/105\n",
      "30/30 [==============================] - 3s 86ms/step - loss: 3.2484 - accuracy: 0.2685 - val_loss: 1.7749 - val_accuracy: 0.4643\n",
      "Epoch 2/105\n",
      "30/30 [==============================] - 2s 78ms/step - loss: 1.2170 - accuracy: 0.5887 - val_loss: 1.0929 - val_accuracy: 0.6480\n",
      "Epoch 3/105\n",
      "30/30 [==============================] - 2s 79ms/step - loss: 0.7505 - accuracy: 0.7310 - val_loss: 0.9587 - val_accuracy: 0.7168\n",
      "Epoch 4/105\n",
      "30/30 [==============================] - 2s 78ms/step - loss: 0.4977 - accuracy: 0.8143 - val_loss: 0.7449 - val_accuracy: 0.7730\n",
      "Epoch 5/105\n",
      "30/30 [==============================] - 2s 78ms/step - loss: 0.3039 - accuracy: 0.8887 - val_loss: 0.7931 - val_accuracy: 0.7908\n",
      "Epoch 6/105\n",
      "30/30 [==============================] - 2s 78ms/step - loss: 0.1972 - accuracy: 0.9292 - val_loss: 0.7862 - val_accuracy: 0.8112\n",
      "Epoch 7/105\n",
      "30/30 [==============================] - 2s 79ms/step - loss: 0.1486 - accuracy: 0.9488 - val_loss: 0.8166 - val_accuracy: 0.8214\n",
      "Epoch 8/105\n",
      "30/30 [==============================] - 2s 80ms/step - loss: 0.1356 - accuracy: 0.9536 - val_loss: 0.7446 - val_accuracy: 0.8291\n",
      "Epoch 9/105\n",
      "30/30 [==============================] - 2s 80ms/step - loss: 0.1026 - accuracy: 0.9643 - val_loss: 0.6879 - val_accuracy: 0.8469\n",
      "Epoch 10/105\n",
      "30/30 [==============================] - 3s 84ms/step - loss: 0.1046 - accuracy: 0.9667 - val_loss: 0.6483 - val_accuracy: 0.8469\n",
      "Epoch 11/105\n",
      "30/30 [==============================] - 2s 80ms/step - loss: 0.0421 - accuracy: 0.9857 - val_loss: 0.8277 - val_accuracy: 0.8342\n",
      "Epoch 12/105\n",
      "30/30 [==============================] - 2s 80ms/step - loss: 0.0281 - accuracy: 0.9929 - val_loss: 0.8548 - val_accuracy: 0.8393\n",
      "Epoch 13/105\n",
      "30/30 [==============================] - 2s 81ms/step - loss: 0.0871 - accuracy: 0.9798 - val_loss: 0.7108 - val_accuracy: 0.8469\n",
      "Epoch 14/105\n",
      "30/30 [==============================] - 2s 79ms/step - loss: 0.0637 - accuracy: 0.9821 - val_loss: 0.8531 - val_accuracy: 0.8520\n",
      "Epoch 15/105\n",
      "30/30 [==============================] - 2s 79ms/step - loss: 0.0732 - accuracy: 0.9827 - val_loss: 0.8227 - val_accuracy: 0.8291\n",
      "Epoch 16/105\n",
      "30/30 [==============================] - 2s 81ms/step - loss: 0.0575 - accuracy: 0.9833 - val_loss: 0.8121 - val_accuracy: 0.8622\n",
      "Epoch 17/105\n",
      "30/30 [==============================] - 2s 80ms/step - loss: 0.0392 - accuracy: 0.9899 - val_loss: 0.9429 - val_accuracy: 0.8520\n",
      "Epoch 18/105\n",
      "30/30 [==============================] - 2s 79ms/step - loss: 0.0211 - accuracy: 0.9940 - val_loss: 1.0115 - val_accuracy: 0.8444\n",
      "Epoch 19/105\n",
      "30/30 [==============================] - 2s 79ms/step - loss: 0.0372 - accuracy: 0.9887 - val_loss: 0.8746 - val_accuracy: 0.8622\n",
      "Epoch 20/105\n",
      "30/30 [==============================] - 2s 81ms/step - loss: 0.0452 - accuracy: 0.9875 - val_loss: 0.8718 - val_accuracy: 0.8648\n",
      "Epoch 21/105\n",
      "30/30 [==============================] - 2s 78ms/step - loss: 0.0383 - accuracy: 0.9857 - val_loss: 0.8157 - val_accuracy: 0.8673\n",
      "Epoch 22/105\n",
      "30/30 [==============================] - 2s 82ms/step - loss: 0.0183 - accuracy: 0.9952 - val_loss: 0.9000 - val_accuracy: 0.8622\n",
      "Epoch 23/105\n",
      "30/30 [==============================] - 2s 80ms/step - loss: 0.0189 - accuracy: 0.9935 - val_loss: 1.0707 - val_accuracy: 0.8673\n",
      "Epoch 24/105\n",
      "30/30 [==============================] - 2s 80ms/step - loss: 0.0364 - accuracy: 0.9875 - val_loss: 0.8849 - val_accuracy: 0.8648\n",
      "Epoch 25/105\n",
      "30/30 [==============================] - 2s 79ms/step - loss: 0.0746 - accuracy: 0.9780 - val_loss: 0.8674 - val_accuracy: 0.8648\n",
      "Epoch 26/105\n",
      "30/30 [==============================] - 2s 79ms/step - loss: 0.0206 - accuracy: 0.9935 - val_loss: 0.8846 - val_accuracy: 0.8724\n",
      "Epoch 27/105\n",
      "30/30 [==============================] - 2s 78ms/step - loss: 0.0239 - accuracy: 0.9958 - val_loss: 0.8061 - val_accuracy: 0.8801\n",
      "Epoch 28/105\n",
      "30/30 [==============================] - 2s 80ms/step - loss: 0.0395 - accuracy: 0.9935 - val_loss: 0.6698 - val_accuracy: 0.8776\n",
      "Epoch 29/105\n",
      "30/30 [==============================] - 2s 78ms/step - loss: 0.0257 - accuracy: 0.9935 - val_loss: 0.6537 - val_accuracy: 0.8776\n",
      "Epoch 30/105\n",
      "30/30 [==============================] - 2s 79ms/step - loss: 0.0060 - accuracy: 0.9988 - val_loss: 0.7441 - val_accuracy: 0.8903\n",
      "Epoch 31/105\n",
      "30/30 [==============================] - 2s 79ms/step - loss: 0.0059 - accuracy: 0.9988 - val_loss: 0.7153 - val_accuracy: 0.8929\n",
      "Epoch 32/105\n",
      "30/30 [==============================] - 2s 78ms/step - loss: 0.0215 - accuracy: 0.9952 - val_loss: 0.6952 - val_accuracy: 0.8852\n",
      "Epoch 33/105\n",
      "30/30 [==============================] - 2s 79ms/step - loss: 7.9816e-04 - accuracy: 1.0000 - val_loss: 0.8412 - val_accuracy: 0.8852\n",
      "Epoch 34/105\n",
      "30/30 [==============================] - 2s 81ms/step - loss: 9.4327e-04 - accuracy: 1.0000 - val_loss: 0.8520 - val_accuracy: 0.8801\n",
      "Epoch 35/105\n",
      "30/30 [==============================] - 2s 81ms/step - loss: 1.6249e-04 - accuracy: 1.0000 - val_loss: 0.8157 - val_accuracy: 0.8852\n",
      "Epoch 36/105\n",
      "30/30 [==============================] - 2s 79ms/step - loss: 1.0164e-04 - accuracy: 1.0000 - val_loss: 0.9430 - val_accuracy: 0.8852\n",
      "Epoch 37/105\n",
      "30/30 [==============================] - 2s 79ms/step - loss: 8.3579e-05 - accuracy: 1.0000 - val_loss: 0.9085 - val_accuracy: 0.8903\n",
      "Epoch 38/105\n",
      "30/30 [==============================] - 2s 79ms/step - loss: 7.1987e-05 - accuracy: 1.0000 - val_loss: 0.8301 - val_accuracy: 0.8878\n",
      "Epoch 39/105\n",
      "30/30 [==============================] - 2s 78ms/step - loss: 6.1801e-05 - accuracy: 1.0000 - val_loss: 0.9415 - val_accuracy: 0.8878\n",
      "Epoch 40/105\n",
      "30/30 [==============================] - 2s 81ms/step - loss: 5.5858e-05 - accuracy: 1.0000 - val_loss: 0.9782 - val_accuracy: 0.8878\n",
      "Epoch 41/105\n",
      "30/30 [==============================] - 2s 79ms/step - loss: 5.0698e-05 - accuracy: 1.0000 - val_loss: 1.0069 - val_accuracy: 0.8827\n",
      "Epoch 42/105\n",
      "30/30 [==============================] - 2s 78ms/step - loss: 4.4549e-05 - accuracy: 1.0000 - val_loss: 1.0154 - val_accuracy: 0.8801\n",
      "Epoch 43/105\n",
      "30/30 [==============================] - 2s 79ms/step - loss: 4.2915e-05 - accuracy: 1.0000 - val_loss: 0.9303 - val_accuracy: 0.8878\n",
      "Epoch 44/105\n",
      "30/30 [==============================] - 2s 78ms/step - loss: 3.8540e-05 - accuracy: 1.0000 - val_loss: 1.0335 - val_accuracy: 0.8827\n",
      "Epoch 45/105\n",
      "30/30 [==============================] - 2s 79ms/step - loss: 3.5272e-05 - accuracy: 1.0000 - val_loss: 1.0032 - val_accuracy: 0.8827\n",
      "Epoch 46/105\n",
      "30/30 [==============================] - 2s 79ms/step - loss: 3.3157e-05 - accuracy: 1.0000 - val_loss: 0.9815 - val_accuracy: 0.8776\n",
      "Epoch 47/105\n",
      "30/30 [==============================] - 2s 81ms/step - loss: 3.0279e-05 - accuracy: 1.0000 - val_loss: 1.1120 - val_accuracy: 0.8724\n",
      "Epoch 48/105\n",
      "30/30 [==============================] - 2s 79ms/step - loss: 2.8909e-05 - accuracy: 1.0000 - val_loss: 1.0487 - val_accuracy: 0.8801\n",
      "Epoch 49/105\n",
      "30/30 [==============================] - 2s 80ms/step - loss: 2.6661e-05 - accuracy: 1.0000 - val_loss: 0.9677 - val_accuracy: 0.8827\n",
      "Epoch 50/105\n",
      "30/30 [==============================] - 2s 81ms/step - loss: 2.5163e-05 - accuracy: 1.0000 - val_loss: 1.0043 - val_accuracy: 0.8776\n",
      "Epoch 51/105\n",
      "30/30 [==============================] - 2s 79ms/step - loss: 2.3988e-05 - accuracy: 1.0000 - val_loss: 0.9433 - val_accuracy: 0.8827\n",
      "Epoch 52/105\n",
      "30/30 [==============================] - 2s 79ms/step - loss: 2.1977e-05 - accuracy: 1.0000 - val_loss: 1.0827 - val_accuracy: 0.8801\n",
      "Epoch 53/105\n",
      "30/30 [==============================] - 2s 82ms/step - loss: 2.1584e-05 - accuracy: 1.0000 - val_loss: 0.9770 - val_accuracy: 0.8903\n",
      "Epoch 54/105\n",
      "30/30 [==============================] - 2s 80ms/step - loss: 1.9792e-05 - accuracy: 1.0000 - val_loss: 1.0675 - val_accuracy: 0.8776\n",
      "Epoch 55/105\n",
      "30/30 [==============================] - 2s 80ms/step - loss: 1.9047e-05 - accuracy: 1.0000 - val_loss: 1.0945 - val_accuracy: 0.8827\n",
      "Epoch 56/105\n",
      "30/30 [==============================] - 2s 80ms/step - loss: 1.7643e-05 - accuracy: 1.0000 - val_loss: 1.0544 - val_accuracy: 0.8852\n",
      "Epoch 57/105\n",
      "30/30 [==============================] - 2s 79ms/step - loss: 1.7045e-05 - accuracy: 1.0000 - val_loss: 1.1770 - val_accuracy: 0.8801\n",
      "Epoch 58/105\n",
      "30/30 [==============================] - 2s 79ms/step - loss: 1.5880e-05 - accuracy: 1.0000 - val_loss: 1.1730 - val_accuracy: 0.8878\n",
      "Epoch 59/105\n",
      "30/30 [==============================] - 2s 80ms/step - loss: 1.5183e-05 - accuracy: 1.0000 - val_loss: 1.1631 - val_accuracy: 0.8852\n",
      "Epoch 60/105\n",
      "30/30 [==============================] - 2s 79ms/step - loss: 1.4306e-05 - accuracy: 1.0000 - val_loss: 1.1331 - val_accuracy: 0.8827\n",
      "Epoch 61/105\n",
      "30/30 [==============================] - 2s 79ms/step - loss: 1.3145e-05 - accuracy: 1.0000 - val_loss: 1.1259 - val_accuracy: 0.8878\n",
      "Epoch 62/105\n",
      "30/30 [==============================] - 2s 80ms/step - loss: 1.2448e-05 - accuracy: 1.0000 - val_loss: 1.2258 - val_accuracy: 0.8724\n",
      "Epoch 63/105\n",
      "30/30 [==============================] - 2s 78ms/step - loss: 1.2371e-05 - accuracy: 1.0000 - val_loss: 1.1753 - val_accuracy: 0.8801\n",
      "Epoch 64/105\n",
      "30/30 [==============================] - 2s 79ms/step - loss: 1.1426e-05 - accuracy: 1.0000 - val_loss: 1.1915 - val_accuracy: 0.8776\n",
      "Epoch 65/105\n",
      "30/30 [==============================] - 2s 81ms/step - loss: 1.0454e-05 - accuracy: 1.0000 - val_loss: 1.0929 - val_accuracy: 0.8827\n",
      "Epoch 66/105\n",
      "30/30 [==============================] - 2s 82ms/step - loss: 1.0649e-05 - accuracy: 1.0000 - val_loss: 1.1405 - val_accuracy: 0.8878\n",
      "Epoch 67/105\n",
      "30/30 [==============================] - 2s 80ms/step - loss: 1.0146e-05 - accuracy: 1.0000 - val_loss: 1.1964 - val_accuracy: 0.8827\n",
      "Epoch 68/105\n",
      "30/30 [==============================] - 2s 82ms/step - loss: 9.1321e-06 - accuracy: 1.0000 - val_loss: 1.2007 - val_accuracy: 0.8827\n",
      "Epoch 69/105\n",
      "30/30 [==============================] - 2s 82ms/step - loss: 9.1106e-06 - accuracy: 1.0000 - val_loss: 1.2147 - val_accuracy: 0.8801\n",
      "Epoch 70/105\n",
      "30/30 [==============================] - 7s 222ms/step - loss: 8.7108e-06 - accuracy: 1.0000 - val_loss: 1.2427 - val_accuracy: 0.8801\n",
      "Epoch 71/105\n",
      "30/30 [==============================] - 3s 100ms/step - loss: 8.0075e-06 - accuracy: 1.0000 - val_loss: 1.2337 - val_accuracy: 0.8903\n",
      "Epoch 72/105\n",
      "30/30 [==============================] - 3s 83ms/step - loss: 8.1431e-06 - accuracy: 1.0000 - val_loss: 1.1822 - val_accuracy: 0.8801\n",
      "Epoch 73/105\n",
      "30/30 [==============================] - 2s 80ms/step - loss: 7.9714e-06 - accuracy: 1.0000 - val_loss: 1.1455 - val_accuracy: 0.8878\n",
      "Epoch 74/105\n",
      "30/30 [==============================] - 2s 81ms/step - loss: 7.3159e-06 - accuracy: 1.0000 - val_loss: 1.2329 - val_accuracy: 0.8852\n",
      "Epoch 75/105\n",
      "30/30 [==============================] - 12s 400ms/step - loss: 7.1362e-06 - accuracy: 1.0000 - val_loss: 1.2098 - val_accuracy: 0.8827\n",
      "Epoch 76/105\n",
      "30/30 [==============================] - 10s 258ms/step - loss: 6.6528e-06 - accuracy: 1.0000 - val_loss: 1.2351 - val_accuracy: 0.8801\n",
      "Epoch 77/105\n",
      "30/30 [==============================] - 4s 121ms/step - loss: 6.4259e-06 - accuracy: 1.0000 - val_loss: 1.2861 - val_accuracy: 0.8801\n",
      "Epoch 78/105\n",
      "30/30 [==============================] - 6s 201ms/step - loss: 6.2634e-06 - accuracy: 1.0000 - val_loss: 1.2311 - val_accuracy: 0.8827\n",
      "Epoch 79/105\n",
      "30/30 [==============================] - 6s 211ms/step - loss: 5.9244e-06 - accuracy: 1.0000 - val_loss: 1.2196 - val_accuracy: 0.8776\n",
      "Epoch 80/105\n",
      "30/30 [==============================] - 3s 89ms/step - loss: 5.6490e-06 - accuracy: 1.0000 - val_loss: 1.3176 - val_accuracy: 0.8724\n",
      "Epoch 81/105\n",
      "30/30 [==============================] - 2s 80ms/step - loss: 5.7799e-06 - accuracy: 1.0000 - val_loss: 1.2558 - val_accuracy: 0.8827\n",
      "Epoch 82/105\n",
      "30/30 [==============================] - 2s 81ms/step - loss: 5.4507e-06 - accuracy: 1.0000 - val_loss: 1.2611 - val_accuracy: 0.8801\n",
      "Epoch 83/105\n",
      "30/30 [==============================] - 3s 112ms/step - loss: 5.1004e-06 - accuracy: 1.0000 - val_loss: 1.2932 - val_accuracy: 0.8776\n",
      "Epoch 84/105\n",
      "30/30 [==============================] - 2s 82ms/step - loss: 5.0258e-06 - accuracy: 1.0000 - val_loss: 1.3391 - val_accuracy: 0.8724\n",
      "Epoch 85/105\n",
      "30/30 [==============================] - 5s 177ms/step - loss: 4.9492e-06 - accuracy: 1.0000 - val_loss: 1.0918 - val_accuracy: 0.8852\n",
      "Epoch 86/105\n",
      "30/30 [==============================] - 3s 93ms/step - loss: 5.3302e-06 - accuracy: 1.0000 - val_loss: 1.2696 - val_accuracy: 0.8827\n",
      "Epoch 87/105\n",
      "30/30 [==============================] - 8s 267ms/step - loss: 4.6630e-06 - accuracy: 1.0000 - val_loss: 1.2824 - val_accuracy: 0.8801\n",
      "Epoch 88/105\n",
      "30/30 [==============================] - 7s 233ms/step - loss: 4.5808e-06 - accuracy: 1.0000 - val_loss: 1.2897 - val_accuracy: 0.8827\n",
      "Epoch 89/105\n",
      "30/30 [==============================] - 2s 81ms/step - loss: 4.4645e-06 - accuracy: 1.0000 - val_loss: 1.3517 - val_accuracy: 0.8724\n",
      "Epoch 90/105\n",
      "30/30 [==============================] - 2s 82ms/step - loss: 4.2229e-06 - accuracy: 1.0000 - val_loss: 1.3192 - val_accuracy: 0.8724\n",
      "Epoch 91/105\n",
      "30/30 [==============================] - 5s 167ms/step - loss: 4.1273e-06 - accuracy: 1.0000 - val_loss: 1.2930 - val_accuracy: 0.8776\n",
      "Epoch 92/105\n",
      "30/30 [==============================] - 3s 85ms/step - loss: 4.0114e-06 - accuracy: 1.0000 - val_loss: 1.2949 - val_accuracy: 0.8776\n",
      "Epoch 93/105\n",
      "30/30 [==============================] - 8s 261ms/step - loss: 3.7918e-06 - accuracy: 1.0000 - val_loss: 1.1853 - val_accuracy: 0.8750\n",
      "Epoch 94/105\n",
      "30/30 [==============================] - 8s 259ms/step - loss: 3.8533e-06 - accuracy: 1.0000 - val_loss: 1.2654 - val_accuracy: 0.8801\n",
      "Epoch 95/105\n",
      "30/30 [==============================] - 5s 160ms/step - loss: 3.6689e-06 - accuracy: 1.0000 - val_loss: 1.2883 - val_accuracy: 0.8776\n",
      "Epoch 96/105\n",
      "30/30 [==============================] - 2s 80ms/step - loss: 3.9035e-06 - accuracy: 1.0000 - val_loss: 1.3426 - val_accuracy: 0.8750\n",
      "Epoch 97/105\n",
      "30/30 [==============================] - 7s 255ms/step - loss: 3.5002e-06 - accuracy: 1.0000 - val_loss: 1.3840 - val_accuracy: 0.8699\n",
      "Epoch 98/105\n",
      "30/30 [==============================] - 7s 227ms/step - loss: 3.3804e-06 - accuracy: 1.0000 - val_loss: 1.3066 - val_accuracy: 0.8776\n",
      "Epoch 99/105\n",
      "30/30 [==============================] - 5s 152ms/step - loss: 3.2626e-06 - accuracy: 1.0000 - val_loss: 1.1760 - val_accuracy: 0.8801\n",
      "Epoch 100/105\n",
      "30/30 [==============================] - 2s 80ms/step - loss: 3.0530e-06 - accuracy: 1.0000 - val_loss: 1.3510 - val_accuracy: 0.8776\n",
      "Epoch 101/105\n",
      "30/30 [==============================] - 6s 197ms/step - loss: 3.0892e-06 - accuracy: 1.0000 - val_loss: 1.3319 - val_accuracy: 0.8776\n",
      "Epoch 102/105\n",
      "30/30 [==============================] - 5s 154ms/step - loss: 3.0077e-06 - accuracy: 1.0000 - val_loss: 1.2974 - val_accuracy: 0.8801\n",
      "Epoch 103/105\n",
      "30/30 [==============================] - 3s 85ms/step - loss: 2.9575e-06 - accuracy: 1.0000 - val_loss: 1.3606 - val_accuracy: 0.8801\n",
      "Epoch 104/105\n",
      "30/30 [==============================] - 7s 234ms/step - loss: 2.8277e-06 - accuracy: 1.0000 - val_loss: 1.2339 - val_accuracy: 0.8801\n",
      "Epoch 105/105\n",
      "30/30 [==============================] - 4s 151ms/step - loss: 2.7219e-06 - accuracy: 1.0000 - val_loss: 1.3342 - val_accuracy: 0.8776\n"
     ]
    }
   ],
   "source": [
    "# Callback untuk menyimpan model setiap epoch\n",
    "model_save_callback = callbacks.ModelCheckpoint('models/model_{val_accuracy:.3f}_{accuracy:.3f}.h5', save_best_only=False, save_weights_only=False, monitor='val_accuracy')\n",
    "\n",
    "# Inisialisasi metrik\n",
    "model.compile(optimizer='adam',\n",
    "              loss='sparse_categorical_crossentropy',\n",
    "              metrics=['accuracy'])\n",
    "\n",
    "# Pelatihan!\n",
    "history = model.fit( train_generator,\n",
    "                     steps_per_epoch=train_generator.n // train_generator.batch_size,\n",
    "                     epochs=105, \n",
    "                     validation_data=validation_generator,\n",
    "                     validation_steps= validation_generator.n // validation_generator.batch_size,\n",
    "                     callbacks=[\n",
    "                         model_save_callback\n",
    "                     ]\n",
    "                   ) "
   ]
  },
  {
   "cell_type": "markdown",
   "metadata": {},
   "source": [
    "## Visualisasi metrik"
   ]
  },
  {
   "cell_type": "code",
   "execution_count": 83,
   "metadata": {},
   "outputs": [
    {
     "data": {
      "image/png": "[encoded data removed]",
      "text/plain": [
       "<Figure size 640x480 with 1 Axes>"
      ]
     },
     "metadata": {},
     "output_type": "display_data"
    },
    {
     "data": {
      "image/png": "[encoded data removed]",
      "text/plain": [
       "<Figure size 640x480 with 1 Axes>"
      ]
     },
     "metadata": {},
     "output_type": "display_data"
    }
   ],
   "source": [
    "# Menyimpan history pelatihan\n",
    "pd.DataFrame(history.history).to_csv('history.csv')\n",
    "\n",
    "# Memvisualisasikan metrik akurasi selama pelatihan \n",
    "plt.plot(history.history['accuracy'], label='training accuracy')\n",
    "plt.plot(history.history['val_accuracy'], label='validation accuracy')\n",
    "plt.xlabel('Epoch')\n",
    "plt.ylabel('Accuracy')\n",
    "plt.ylim([0., 1]) \n",
    "plt.legend(loc='right')\n",
    "plt.savefig('train_val_acc_augmentation.png')\n",
    "plt.show()\n",
    "\n",
    "# Memvisualisasikan metrik loss selama pelatihan\n",
    "plt.plot(history.history['loss'], label='training loss')\n",
    "plt.plot(history.history['val_loss'], label='validation loss')\n",
    "plt.xlabel('Epoch')\n",
    "plt.ylabel('Loss')\n",
    "plt.ylim([0., 3.5])\n",
    "plt.legend(loc='right')\n",
    "plt.savefig('train_val_loss_augmentation.png')\n",
    "plt.show()"
   ]
  },
  {
   "cell_type": "markdown",
   "metadata": {},
   "source": [
    "# Evaluasi Model "
   ]
  },
  {
   "cell_type": "code",
   "execution_count": 46,
   "metadata": {},
   "outputs": [
    {
     "name": "stdout",
     "output_type": "stream",
     "text": [
      "Model: \"sequential\"\n",
      "_________________________________________________________________\n",
      "Layer (type)                 Output Shape              Param #   \n",
      "=================================================================\n",
      "conv2d (Conv2D)              (None, 148, 148, 32)      896       \n",
      "_________________________________________________________________\n",
      "max_pooling2d (MaxPooling2D) (None, 74, 74, 32)        0         \n",
      "_________________________________________________________________\n",
      "conv2d_1 (Conv2D)            (None, 72, 72, 64)        18496     \n",
      "_________________________________________________________________\n",
      "max_pooling2d_1 (MaxPooling2 (None, 36, 36, 64)        0         \n",
      "_________________________________________________________________\n",
      "conv2d_2 (Conv2D)            (None, 34, 34, 128)       73856     \n",
      "_________________________________________________________________\n",
      "max_pooling2d_2 (MaxPooling2 (None, 17, 17, 128)       0         \n",
      "_________________________________________________________________\n",
      "conv2d_3 (Conv2D)            (None, 15, 15, 256)       295168    \n",
      "_________________________________________________________________\n",
      "max_pooling2d_3 (MaxPooling2 (None, 7, 7, 256)         0         \n",
      "_________________________________________________________________\n",
      "flatten (Flatten)            (None, 12544)             0         \n",
      "_________________________________________________________________\n",
      "dense (Dense)                (None, 512)               6423040   \n",
      "_________________________________________________________________\n",
      "dense_1 (Dense)              (None, 30)                15390     \n",
      "=================================================================\n",
      "Total params: 6,826,846\n",
      "Trainable params: 6,826,846\n",
      "Non-trainable params: 0\n",
      "_________________________________________________________________\n"
     ]
    }
   ],
   "source": [
    "# load model terbaik\n",
    "loaded_model = models.load_model('models/model_0.885_1.000.h5')\n",
    "loaded_model.summary()"
   ]
  },
  {
   "cell_type": "code",
   "execution_count": 124,
   "metadata": {},
   "outputs": [],
   "source": [
    "# Membuat fungsi load image untuk pengujian\n",
    "def load_image(img_path):\n",
    "    # Praproses data uji\n",
    "    img = load_img(img_path, target_size=(150,150,3))\n",
    "    img_tensor = img_to_array(img)\n",
    "    img_tensor= cleaned_image(img_tensor)\n",
    "    img_tensor = np.expand_dims(img_tensor, axis=0)\n",
    "    '''\n",
    "  img_tensor = img_to_array(img)\n",
    "  img_tensor = np.expand_dims(img_tensor, axis=0)\n",
    "  img_tensor /= 255.0\n",
    "  '''\n",
    "\n",
    "    return img_tensor"
   ]
  },
  {
   "cell_type": "code",
   "execution_count": 125,
   "metadata": {},
   "outputs": [
    {
     "name": "stdout",
     "output_type": "stream",
     "text": [
      "Found 420 images belonging to 30 classes.\n"
     ]
    }
   ],
   "source": [
    "# Membuat generator seperti sebelum pelatihan untuk data uji\n",
    "PATH = 'dataset'\n",
    "VAL_DATA = 'test_mixed'\n",
    "VALIDATION_DIR = os.path.join(PATH, VAL_DATA)\n",
    "\n",
    "BATCH_SIZE = 56\n",
    "IMG_SIZE = (150, 150)\n",
    "\n",
    "\n",
    "validation_datagen = ImageDataGenerator(preprocessing_function=cleaned_image )\n",
    "\n",
    "validation_generator = validation_datagen.flow_from_directory(VALIDATION_DIR,\n",
    "                                                    batch_size=BATCH_SIZE,\n",
    "                                                    class_mode='sparse',\n",
    "                                                    target_size=IMG_SIZE,\n",
    "                                                    color_mode='rgb'\n",
    "                                                    )"
   ]
  },
  {
   "cell_type": "markdown",
   "metadata": {},
   "source": [
    "## Pengujian manual"
   ]
  },
  {
   "cell_type": "code",
   "execution_count": 133,
   "metadata": {},
   "outputs": [
    {
     "name": "stderr",
     "output_type": "stream",
     "text": [
      "Clipping input data to the valid range for imshow with RGB data ([0..1] for floats or [0..255] for integers). Got range [0.0..255.0].\n"
     ]
    },
    {
     "name": "stdout",
     "output_type": "stream",
     "text": [
      "11\n"
     ]
    },
    {
     "data": {
      "image/png": "[encoded data removed]",
      "text/plain": [
       "<Figure size 640x480 with 1 Axes>"
      ]
     },
     "metadata": {},
     "output_type": "display_data"
    },
    {
     "name": "stdout",
     "output_type": "stream",
     "text": [
      "[[6.47977293e-01 2.76081892e-07 2.68026761e-05 1.19598035e-03\n",
      "  2.01185629e-01 5.82376051e-05 1.53100787e-04 2.44707379e-11\n",
      "  2.21463089e+01 1.10071480e-04 4.29771471e+00 5.04102173e+01\n",
      "  1.00550759e+00 8.36952939e-04 1.89372673e+01 1.20386062e-06\n",
      "  1.25837021e-08 1.50023222e-01 9.21389017e-07 6.57449220e-07\n",
      "  3.86430123e-08 3.27989198e-07 5.43717155e-12 2.19151914e-07\n",
      "  1.89138914e-03 2.68106343e-10 1.21849116e-05 1.28808635e-04\n",
      "  2.19938469e+00 1.00188816e-10]]\n"
     ]
    }
   ],
   "source": [
    "# load data uj\n",
    "img_path = r\"C:\\Users\\Rzl\\Downloads\\hamzah3.jpeg\"\n",
    "new_image = load_image(img_path)\n",
    "\n",
    "# prediksi\n",
    "pred = loaded_model.predict(new_image)\n",
    "pred *= 100\n",
    "print(np.argmax(pred))\n",
    "\n",
    "img = load_img(img_path, target_size=(160, 160))\n",
    "plt.imshow(new_image.squeeze())\n",
    "plt.title(\"Prediksi: {}\".format(class_names[np.argmax(pred)]))\n",
    "plt.tight_layout()\n",
    "plt.show()\n",
    "print(pred)"
   ]
  },
  {
   "cell_type": "code",
   "execution_count": 127,
   "metadata": {},
   "outputs": [
    {
     "name": "stdin",
     "output_type": "stream",
     "text": [
      "Nama huruf:  hamzah\n"
     ]
    },
    {
     "name": "stdout",
     "output_type": "stream",
     "text": [
      "11\n"
     ]
    },
    {
     "data": {
      "image/png": "[encoded data removed]",
      "text/plain": [
       "<Figure size 640x480 with 1 Axes>"
      ]
     },
     "metadata": {},
     "output_type": "display_data"
    },
    {
     "name": "stdout",
     "output_type": "stream",
     "text": [
      "[[6.8162805e-08 3.5912773e-08 1.6615578e-03 8.3889763e-06 7.6072562e-09\n",
      "  1.7497079e-08 3.5234347e-08 3.0156336e-08 2.9098568e-09 3.8477683e-07\n",
      "  2.7211382e-07 9.9998283e+01 1.2369770e-07 7.1212135e-08 3.4811058e-07\n",
      "  6.3308607e-09 2.3155748e-07 5.3688058e-08 4.2983970e-06 6.2092989e-09\n",
      "  2.1388993e-05 1.4568906e-06 2.0316451e-08 5.0738889e-09 1.3055499e-06\n",
      "  1.2394533e-05 1.0547537e-08 1.2132386e-08 1.6271741e-06 3.7360898e-08]]\n"
     ]
    }
   ],
   "source": [
    "# load data uji\n",
    "huruf = input(\"Nama huruf: \")\n",
    "img_path = 'dataset/' + VAL_DATA + '/' + huruf + '/'+ huruf + '_7.jpg'\n",
    "new_image = load_image(img_path)\n",
    "\n",
    "# prediksi\n",
    "pred = loaded_model.predict(new_image)\n",
    "pred *= 100\n",
    "print(np.argmax(pred))\n",
    "\n",
    "img = load_img(img_path, target_size=(160, 160))\n",
    "plt.imshow(img)\n",
    "plt.title(\"Prediksi: {}\".format(class_names[np.argmax(pred)]))\n",
    "plt.xlabel(\"Aktual: \" + img_path.split(\"/\")[2])\n",
    "plt.tight_layout()\n",
    "plt.show()\n",
    "print(pred)"
   ]
  },
  {
   "cell_type": "code",
   "execution_count": 14,
   "metadata": {},
   "outputs": [
    {
     "ename": "ModuleNotFoundError",
     "evalue": "No module named 'ipywidgets'",
     "output_type": "error",
     "traceback": [
      "\u001b[1;31m---------------------------------------------------------------------------\u001b[0m",
      "\u001b[1;31mModuleNotFoundError\u001b[0m                       Traceback (most recent call last)",
      "Cell \u001b[1;32mIn[14], line 3\u001b[0m\n\u001b[0;32m      1\u001b[0m \u001b[38;5;66;03m# Pengujian GUI\u001b[39;00m\n\u001b[1;32m----> 3\u001b[0m \u001b[38;5;28;01mfrom\u001b[39;00m \u001b[38;5;21;01mipywidgets\u001b[39;00m \u001b[38;5;28;01mimport\u001b[39;00m \u001b[38;5;241m*\u001b[39m\n\u001b[0;32m      4\u001b[0m \u001b[38;5;28;01mfrom\u001b[39;00m \u001b[38;5;21;01mIPython\u001b[39;00m\u001b[38;5;21;01m.\u001b[39;00m\u001b[38;5;21;01mdisplay\u001b[39;00m \u001b[38;5;28;01mimport\u001b[39;00m clear_output, display\n\u001b[0;32m      5\u001b[0m \u001b[38;5;28;01mfrom\u001b[39;00m \u001b[38;5;21;01mtkinter\u001b[39;00m \u001b[38;5;28;01mimport\u001b[39;00m Tk, filedialog\n",
      "\u001b[1;31mModuleNotFoundError\u001b[0m: No module named 'ipywidgets'"
     ]
    }
   ],
   "source": [
    "# Pengujian GUI\n",
    "\n",
    "from ipywidgets import *\n",
    "from IPython.display import clear_output, display\n",
    "from tkinter import Tk, filedialog\n",
    "\n",
    "def select_files(file):\n",
    "    clear_output()\n",
    "    root = Tk()\n",
    "    root.withdraw() # Hide the main window.\n",
    "    root.call('wm', 'attributes', '.', '-topmost', True) # Raise the root to the top of all windows.\n",
    "    file.files = filedialog.askopenfilename(multiple=True) # List of selected files will be set button's file attribute.\n",
    "    print(file.files) # Print the list of files selected."
   ]
  },
  {
   "cell_type": "code",
   "execution_count": 41,
   "metadata": {},
   "outputs": [
    {
     "name": "stdout",
     "output_type": "stream",
     "text": [
      "('H:/Ngoding Python/Skripsi/Hijaiyah Deployment CNN/dataset/test_mixed/ain/ain_2.jpg',)\n"
     ]
    }
   ],
   "source": [
    "fileselect = Button(description=\"File select\")\n",
    "fileselect.on_click(select_files)\n",
    "\n",
    "display(fileselect)"
   ]
  },
  {
   "cell_type": "code",
   "execution_count": 43,
   "metadata": {},
   "outputs": [
    {
     "name": "stdout",
     "output_type": "stream",
     "text": [
      "0\n"
     ]
    },
    {
     "data": {
      "image/png": "[encoded data removed]",
      "text/plain": [
       "<Figure size 432x288 with 1 Axes>"
      ]
     },
     "metadata": {
      "needs_background": "light"
     },
     "output_type": "display_data"
    },
    {
     "name": "stdout",
     "output_type": "stream",
     "text": [
      "[[9.9989906e+01 1.3855977e-21 2.5522734e-18 4.1006083e-12 8.1949654e-16\n",
      "  7.4127910e-19 8.8806365e-15 1.7906005e-15 8.8522956e-03 3.5717522e-09\n",
      "  1.0736453e-03 1.7444733e-04 5.7614985e-10 2.5186303e-14 8.0932455e-10\n",
      "  1.4593145e-19 3.7247591e-10 7.2022268e-09 2.0979016e-22 3.0006535e-19\n",
      "  9.7600058e-18 7.5776700e-09 3.7494465e-12 4.9234932e-22 5.4810099e-26\n",
      "  1.0877632e-06 7.6321688e-31 6.6209097e-08 1.6079262e-09 1.2132027e-25]]\n"
     ]
    }
   ],
   "source": [
    "# Don't run this cell if the cell above hadn't run yet\n",
    "\n",
    "files = fileselect.files\n",
    "img_path = files[0]\n",
    "new_image = load_image(img_path)\n",
    "\n",
    "# prediksi\n",
    "pred = loaded_model.predict(new_image)\n",
    "pred *= 100\n",
    "print(np.argmax(pred))\n",
    "\n",
    "img = load_img(img_path, target_size=(160, 160))\n",
    "plt.imshow(img)\n",
    "plt.title(\"Prediksi: {}\".format(class_names[np.argmax(pred)]))\n",
    "plt.xlabel(\"Aktual: \" + img_path.split(\"/\")[2])\n",
    "plt.tight_layout()\n",
    "plt.show()\n",
    "print(pred)"
   ]
  },
  {
   "cell_type": "code",
   "execution_count": 11,
   "metadata": {},
   "outputs": [
    {
     "name": "stdout",
     "output_type": "stream",
     "text": [
      "Akurasi pada data tes: 99.76190476190476%\n"
     ]
    }
   ],
   "source": [
    "# Menghitung akurasi secara manual\n",
    "total = 0\n",
    "betul = 0\n",
    "for folder in class_names:\n",
    "    for count, filename in enumerate(os.listdir(os.path.join(VALIDATION_DIR, folder))):\n",
    "        img_path = 'dataset/' + VAL_DATA + '/' + folder + '/'+ filename\n",
    "        new_image = load_image(img_path)\n",
    "        pred = loaded_model.predict(new_image)\n",
    "        if class_names[np.argmax(pred)] == folder:\n",
    "            betul += 1\n",
    "        total += 1\n",
    "\n",
    "print(\"Akurasi pada data tes: {}%\".format((betul/total)*100))"
   ]
  },
  {
   "cell_type": "markdown",
   "metadata": {},
   "source": [
    "## Confusion Matrix"
   ]
  },
  {
   "cell_type": "code",
   "execution_count": 12,
   "metadata": {},
   "outputs": [],
   "source": [
    "# Confusion Matrix dan Classification Report\n",
    "Y_pred = []\n",
    "\n",
    "for folder in class_names:\n",
    "    for labels, filename in enumerate(os.listdir(os.path.join(VALIDATION_DIR, folder))):\n",
    "        img_path = 'dataset/' + VAL_DATA + '/' + folder + '/'+ filename\n",
    "        new_image = load_image(img_path)\n",
    "        pred = loaded_model.predict(new_image)\n",
    "        Y_pred.append(np.argmax(pred, axis=1))"
   ]
  },
  {
   "cell_type": "code",
   "execution_count": 13,
   "metadata": {},
   "outputs": [
    {
     "name": "stdout",
     "output_type": "stream",
     "text": [
      "\n",
      "=======================Confusion Matrix=======================\n",
      "\n",
      "[[14  0  0  0  0  0  0  0  0  0  0  0  0  0  0  0  0  0  0  0  0  0  0  0\n",
      "   0  0  0  0  0  0]\n",
      " [ 0 14  0  0  0  0  0  0  0  0  0  0  0  0  0  0  0  0  0  0  0  0  0  0\n",
      "   0  0  0  0  0  0]\n",
      " [ 0  0 14  0  0  0  0  0  0  0  0  0  0  0  0  0  0  0  0  0  0  0  0  0\n",
      "   0  0  0  0  0  0]\n",
      " [ 0  0  0 14  0  0  0  0  0  0  0  0  0  0  0  0  0  0  0  0  0  0  0  0\n",
      "   0  0  0  0  0  0]\n",
      " [ 0  0  0  0 14  0  0  0  0  0  0  0  0  0  0  0  0  0  0  0  0  0  0  0\n",
      "   0  0  0  0  0  0]\n",
      " [ 0  0  0  0  0 14  0  0  0  0  0  0  0  0  0  0  0  0  0  0  0  0  0  0\n",
      "   0  0  0  0  0  0]\n",
      " [ 0  0  0  0  0  0 14  0  0  0  0  0  0  0  0  0  0  0  0  0  0  0  0  0\n",
      "   0  0  0  0  0  0]\n",
      " [ 0  0  0  0  0  0  0 14  0  0  0  0  0  0  0  0  0  0  0  0  0  0  0  0\n",
      "   0  0  0  0  0  0]\n",
      " [ 0  0  0  0  0  0  0  0 14  0  0  0  0  0  0  0  0  0  0  0  0  0  0  0\n",
      "   0  0  0  0  0  0]\n",
      " [ 0  0  0  0  0  0  0  0  0 14  0  0  0  0  0  0  0  0  0  0  0  0  0  0\n",
      "   0  0  0  0  0  0]\n",
      " [ 0  0  0  0  0  0  0  0  0  0 14  0  0  0  0  0  0  0  0  0  0  0  0  0\n",
      "   0  0  0  0  0  0]\n",
      " [ 0  0  0  0  0  0  0  0  0  0  0 14  0  0  0  0  0  0  0  0  0  0  0  0\n",
      "   0  0  0  0  0  0]\n",
      " [ 0  0  0  0  0  0  0  0  0  0  0  0 14  0  0  0  0  0  0  0  0  0  0  0\n",
      "   0  0  0  0  0  0]\n",
      " [ 0  0  0  0  0  0  0  0  0  0  0  0  0 14  0  0  0  0  0  0  0  0  0  0\n",
      "   0  0  0  0  0  0]\n",
      " [ 0  0  0  0  0  0  0  0  0  0  0  0  0  0 14  0  0  0  0  0  0  0  0  0\n",
      "   0  0  0  0  0  0]\n",
      " [ 0  0  0  0  0  0  0  0  0  0  0  0  0  0  0 14  0  0  0  0  0  0  0  0\n",
      "   0  0  0  0  0  0]\n",
      " [ 0  0  0  0  0  0  0  0  0  0  0  0  0  0  0  0 14  0  0  0  0  0  0  0\n",
      "   0  0  0  0  0  0]\n",
      " [ 0  0  0  0  0  0  0  0  0  0  0  0  0  0  0  0  0 14  0  0  0  0  0  0\n",
      "   0  0  0  0  0  0]\n",
      " [ 0  0  0  0  0  0  0  0  0  0  0  0  0  0  0  0  0  0 14  0  0  0  0  0\n",
      "   0  0  0  0  0  0]\n",
      " [ 0  0  0  0  0  0  0  0  0  0  0  0  0  0  0  0  0  0  0 14  0  0  0  0\n",
      "   0  0  0  0  0  0]\n",
      " [ 0  0  0  0  0  0  0  0  0  0  0  0  0  0  0  0  0  0  0  0 14  0  0  0\n",
      "   0  0  0  0  0  0]\n",
      " [ 0  0  0  0  0  0  0  0  0  0  0  0  0  0  0  0  0  0  0  0  0 14  0  0\n",
      "   0  0  0  0  0  0]\n",
      " [ 0  0  0  0  0  0  0  0  0  0  0  0  0  0  0  0  0  0  0  0  0  0 14  0\n",
      "   0  0  0  0  0  0]\n",
      " [ 0  0  0  0  0  0  0  0  0  0  0  0  0  0  0  0  0  0  0  0  0  0  0 14\n",
      "   0  0  0  0  0  0]\n",
      " [ 0  0  0  0  0  0  0  0  0  0  0  0  0  0  0  0  0  0  0  0  0  0  0  0\n",
      "  14  0  0  0  0  0]\n",
      " [ 0  0  0  0  0  0  0  0  0  0  0  0  0  0  0  0  0  0  0  0  0  0  0  0\n",
      "   0 14  0  0  0  0]\n",
      " [ 0  0  0  0  0  0  0  0  0  0  0  0  0  0  0  0  0  0  0  0  0  0  0  0\n",
      "   0  0 14  0  0  0]\n",
      " [ 0  0  0  0  0  0  0  0  0  0  0  0  0  0  0  0  0  0  0  0  0  0  0  0\n",
      "   0  0  0 14  0  0]\n",
      " [ 0  0  0  0  0  0  0  0  0  0  0  0  0  0  0  0  0  0  0  0  0  0  0  0\n",
      "   0  0  0  0 14  0]\n",
      " [ 0  0  0  0  0  0  0  0  0  0  0  0  0  0  0  0  0  0  0  0  1  0  0  0\n",
      "   0  0  0  0  0 13]]\n",
      "\n",
      "\n",
      "=================Classification Report=================\n",
      "\n",
      "              precision    recall  f1-score   support\n",
      "\n",
      "         ain       1.00      1.00      1.00        14\n",
      "        alif       1.00      1.00      1.00        14\n",
      "          ba       1.00      1.00      1.00        14\n",
      "         dal       1.00      1.00      1.00        14\n",
      "        dhod       1.00      1.00      1.00        14\n",
      "        dzal       1.00      1.00      1.00        14\n",
      "        dzho       1.00      1.00      1.00        14\n",
      "          fa       1.00      1.00      1.00        14\n",
      "       ghoin       1.00      1.00      1.00        14\n",
      "          ha       1.00      1.00      1.00        14\n",
      "         ha'       1.00      1.00      1.00        14\n",
      "      hamzah       1.00      1.00      1.00        14\n",
      "         jim       1.00      1.00      1.00        14\n",
      "         kaf       1.00      1.00      1.00        14\n",
      "         kho       1.00      1.00      1.00        14\n",
      "         lam       1.00      1.00      1.00        14\n",
      "     lamalif       1.00      1.00      1.00        14\n",
      "         mim       1.00      1.00      1.00        14\n",
      "         nun       1.00      1.00      1.00        14\n",
      "         qof       1.00      1.00      1.00        14\n",
      "          ro       0.93      1.00      0.97        14\n",
      "        shod       1.00      1.00      1.00        14\n",
      "         sin       1.00      1.00      1.00        14\n",
      "        syin       1.00      1.00      1.00        14\n",
      "          ta       1.00      1.00      1.00        14\n",
      "         tho       1.00      1.00      1.00        14\n",
      "         tsa       1.00      1.00      1.00        14\n",
      "        wawu       1.00      1.00      1.00        14\n",
      "          ya       1.00      1.00      1.00        14\n",
      "        zain       1.00      0.93      0.96        14\n",
      "\n",
      "    accuracy                           1.00       420\n",
      "   macro avg       1.00      1.00      1.00       420\n",
      "weighted avg       1.00      1.00      1.00       420\n",
      "\n"
     ]
    }
   ],
   "source": [
    "# Menampilkan hasil\n",
    "print('\\n=======================Confusion Matrix=======================\\n')\n",
    "print(confusion_matrix(validation_generator.classes, Y_pred))\n",
    "print('\\n\\n=================Classification Report=================\\n')\n",
    "target_names = class_names\n",
    "print(classification_report(validation_generator.classes, Y_pred, target_names=target_names))"
   ]
  }
 ],
 "metadata": {
  "kernelspec": {
   "display_name": "Python 3 (ipykernel)",
   "language": "python",
   "name": "python3"
  },
  "language_info": {
   "codemirror_mode": {
    "name": "ipython",
    "version": 3
   },
   "file_extension": ".py",
   "mimetype": "text/x-python",
   "name": "python",
   "nbconvert_exporter": "python",
   "pygments_lexer": "ipython3",
   "version": "3.9.15"
  }
 },
 "nbformat": 4,
 "nbformat_minor": 4
}
